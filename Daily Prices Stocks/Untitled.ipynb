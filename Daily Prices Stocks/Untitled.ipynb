{
 "cells": [
  {
   "cell_type": "code",
   "execution_count": 6,
   "id": "2eaaf14b",
   "metadata": {},
   "outputs": [
    {
     "name": "stdout",
     "output_type": "stream",
     "text": [
      "     BUSINESS_DATE SYMBOL  CLOSE_PRICE  PREVIOUS_DAY_CLOSE_PRICE\n",
      "2314    2023-01-08   RURU        835.0                     815.0\n",
      "2315    2023-01-08  SAHAS        587.0                     595.0\n",
      "2316    2023-01-08    TPC        415.2                     413.0\n",
      "2317    2023-01-08   MBJC        270.0                     273.0\n",
      "2318    2023-01-08   ADLB        635.1                     586.9\n",
      "Hydropower only\n",
      "SYMBOL\n",
      "NMB       0.022030\n",
      "HBL       0.231664\n",
      "BOKL      0.420135\n",
      "NBL       0.454791\n",
      "PRVU      0.558646\n",
      "GBIME     0.562698\n",
      "NABIL     0.563498\n",
      "CCBL      0.739227\n",
      "SBL       0.745933\n",
      "PCBL      0.774411\n",
      "SANIMA    0.783092\n",
      "SRBL      0.840230\n",
      "LBL       0.940983\n",
      "ADBL      0.966740\n",
      "CBL       1.019147\n",
      "NIB       1.024906\n",
      "SCB       1.037283\n",
      "SBI       1.073942\n",
      "CZBIL     1.102067\n",
      "MEGA      1.153539\n",
      "MBL       1.403307\n",
      "EBL       1.658097\n",
      "NICA      1.716103\n"
     ]
    }
   ],
   "source": [
    "import os\n",
    "import pandas as pd\n",
    "import numpy as np\n",
    "import matplotlib.pyplot as plt\n",
    "\n",
    "\n",
    "\n",
    "#def get_df():\n",
    "#    df=pd.DataFrame()\n",
    "#    for file in os.listdir():\n",
    "#        if file.endswith('.csv'):\n",
    "#            aux=pd.read_csv(file)\n",
    "#            df=df.append(aux)\n",
    "#    return df\n",
    "\n",
    "\n",
    "#df=get_df()\n",
    "\n",
    "\n",
    "#df.to_csv(f\"file_name.csv\")\n",
    "df = pd.read_excel('a.xlsx',parse_dates=True)\n",
    "df = df[['BUSINESS_DATE','SYMBOL','CLOSE_PRICE','PREVIOUS_DAY_CLOSE_PRICE']]\n",
    "print(df.tail())\n",
    "df['RETURN']=((df['CLOSE_PRICE'] - df['PREVIOUS_DAY_CLOSE_PRICE'])/df['PREVIOUS_DAY_CLOSE_PRICE'])*100\n",
    "df_grp = df.groupby('SYMBOL')['RETURN'].mean()\n",
    "#print(df_grp.sort_values().to_string())\n",
    "\n",
    "\n",
    "def get_sectoral_average(filename,sector):\n",
    "    df1 = pd.read_excel(filename,parse_dates=True)\n",
    "    df1 = df[['BUSINESS_DATE','SYMBOL','CLOSE_PRICE','PREVIOUS_DAY_CLOSE_PRICE']]\n",
    "    df2 = pd.read_excel(sector)\n",
    "    df2_list = list(df2['Symbol'])\n",
    "    df1 = df1[df1['SYMBOL'].isin(df2_list)]\n",
    "    df1['RETURN']=((df1['CLOSE_PRICE'] - df1['PREVIOUS_DAY_CLOSE_PRICE'])/df1['PREVIOUS_DAY_CLOSE_PRICE'])*100\n",
    "    df1_grp = df1.groupby('SYMBOL')['RETURN'].mean()\n",
    "    return (df1_grp.sort_values().to_string())\n",
    "\n",
    "\n",
    "print(\"Hydropower only\")\n",
    "#print(get_sectoral_average('a.xlsx','HYDROPOWER_INFORMATION.xlsx'))\n",
    "print(get_sectoral_average('a.xlsx','BANK_INFORMATION.xlsx'))"
   ]
  },
  {
   "cell_type": "code",
   "execution_count": null,
   "id": "f2933919",
   "metadata": {},
   "outputs": [],
   "source": []
  }
 ],
 "metadata": {
  "kernelspec": {
   "display_name": "Python 3 (ipykernel)",
   "language": "python",
   "name": "python3"
  },
  "language_info": {
   "codemirror_mode": {
    "name": "ipython",
    "version": 3
   },
   "file_extension": ".py",
   "mimetype": "text/x-python",
   "name": "python",
   "nbconvert_exporter": "python",
   "pygments_lexer": "ipython3",
   "version": "3.9.13"
  }
 },
 "nbformat": 4,
 "nbformat_minor": 5
}
