{
 "cells": [
  {
   "cell_type": "code",
   "execution_count": 1,
   "id": "33a2cbb6",
   "metadata": {},
   "outputs": [],
   "source": [
    "import pandas as pd\n",
    "import matplotlib.pyplot as plt\n",
    "import numpy as np"
   ]
  },
  {
   "cell_type": "code",
   "execution_count": 71,
   "id": "f1a7d7fa",
   "metadata": {},
   "outputs": [
    {
     "name": "stdout",
     "output_type": "stream",
     "text": [
      "                           Percent Change_ADBL.xlsx  Percent Change_NEPSE.xlsx\n",
      "Percent Change_ADBL.xlsx                   1.000000                   0.707278\n",
      "Percent Change_NEPSE.xlsx                  0.707278                   1.000000\n"
     ]
    }
   ],
   "source": [
    "def corcheck(x,y):\n",
    "    \"\"\"Checks the corelation of two excel files percentage change column\n",
    "    after mergig the files on date\"\"\"\n",
    "    a = pd.read_excel(x,parse_dates=True,skiprows=1)\n",
    "    b = pd.read_excel(y,parse_dates=True)\n",
    "    a['Percent Change'] = pd.to_numeric(a[\"Percent Change\"],errors='coerce')\n",
    "    b['Percent Change'] = pd.to_numeric(b[\"Percent Change\"],errors='coerce')\n",
    "    a = a[['Percent Change','Date']]\n",
    "    b = b[['Percent Change','Date']]\n",
    "    a.replace(0,np.nan,inplace=True)\n",
    "    b.replace(0,np.nan,inplace=True)\n",
    "    a = a.dropna()\n",
    "    b = b.dropna()\n",
    "    merged = a.merge(b,on=\"Date\",how=\"inner\",suffixes=('_'+x,'_'+y))\n",
    "    merged.dropna()\n",
    "    merged = merged.drop('Date',axis=1)\n",
    "    cor = merged.corr()\n",
    "    return cor\n",
    "new = corcheck('ADBL.xlsx','NEPSE.xlsx')\n",
    "print(new)\n",
    "\n"
   ]
  },
  {
   "cell_type": "code",
   "execution_count": 70,
   "id": "b2afba3f",
   "metadata": {},
   "outputs": [
    {
     "name": "stdout",
     "output_type": "stream",
     "text": [
      "0.7023663721687554\n"
     ]
    }
   ],
   "source": [
    "def beta(x,y):\n",
    "    \"\"\"Checks the beta of two excel files percentage change column\n",
    "    after mergig the files on date and seting the benchmark as second excel\n",
    "    file\"\"\"\n",
    "    a = pd.read_excel(x,parse_dates=True,skiprows=1)\n",
    "    b = pd.read_excel(y,parse_dates=True)\n",
    "    a['Percent Change'] = pd.to_numeric(a[\"Percent Change\"],errors='coerce')\n",
    "    b['Percent Change'] = pd.to_numeric(b[\"Percent Change\"],errors='coerce')\n",
    "    a = a[['Percent Change','Date']]\n",
    "    b = b[['Percent Change','Date']]\n",
    "    a.replace(0,np.nan,inplace=True)\n",
    "    b.replace(0,np.nan,inplace=True)\n",
    "    a = a.dropna()\n",
    "    b = b.dropna()\n",
    "    merged = a.merge(b,on=\"Date\",how=\"inner\",suffixes=('_'+x,'_'+y))\n",
    "    merged.dropna()\n",
    "    merged = merged.drop('Date',axis=1)\n",
    "    beta = merged['Percent Change_'+x].cov(merged['Percent Change_'+y])/merged['Percent Change_'+y].var()\n",
    "    return beta\n",
    "x = beta('ADBL.xlsx','NEPSE.xlsx')\n",
    "print(x)"
   ]
  },
  {
   "cell_type": "code",
   "execution_count": null,
   "id": "462b4482",
   "metadata": {},
   "outputs": [],
   "source": []
  }
 ],
 "metadata": {
  "kernelspec": {
   "display_name": "Python 3 (ipykernel)",
   "language": "python",
   "name": "python3"
  },
  "language_info": {
   "codemirror_mode": {
    "name": "ipython",
    "version": 3
   },
   "file_extension": ".py",
   "mimetype": "text/x-python",
   "name": "python",
   "nbconvert_exporter": "python",
   "pygments_lexer": "ipython3",
   "version": "3.9.13"
  }
 },
 "nbformat": 4,
 "nbformat_minor": 5
}
